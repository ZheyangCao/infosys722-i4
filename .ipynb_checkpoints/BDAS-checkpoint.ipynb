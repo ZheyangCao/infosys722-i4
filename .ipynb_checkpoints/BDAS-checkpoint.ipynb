{
 "cells": [
  {
   "cell_type": "code",
   "execution_count": 2,
   "id": "24125178",
   "metadata": {},
   "outputs": [
    {
     "name": "stderr",
     "output_type": "stream",
     "text": [
      "WARNING: An illegal reflective access operation has occurred\n",
      "WARNING: Illegal reflective access by org.apache.spark.unsafe.Platform (file:/home/ubuntu/spark-3.2.1-bin-hadoop2.7/jars/spark-unsafe_2.12-3.2.1.jar) to constructor java.nio.DirectByteBuffer(long,int)\n",
      "WARNING: Please consider reporting this to the maintainers of org.apache.spark.unsafe.Platform\n",
      "WARNING: Use --illegal-access=warn to enable warnings of further illegal reflective access operations\n",
      "WARNING: All illegal access operations will be denied in a future release\n",
      "Using Spark's default log4j profile: org/apache/spark/log4j-defaults.properties\n",
      "Setting default log level to \"WARN\".\n",
      "To adjust logging level use sc.setLogLevel(newLevel). For SparkR, use setLogLevel(newLevel).\n",
      "24/05/15 03:17:48 WARN NativeCodeLoader: Unable to load native-hadoop library for your platform... using builtin-java classes where applicable\n"
     ]
    }
   ],
   "source": [
    "# Must be included at the beginning of each new notebook. Remember to change the app name.\n",
    "import findspark\n",
    "findspark.init('/home/ubuntu/spark-3.2.1-bin-hadoop2.7')\n",
    "import pyspark\n",
    "from pyspark.sql import SparkSession\n",
    "spark = SparkSession.builder.appName('basics').getOrCreate()\n",
    "from pyspark.sql.functions import col, count, sum as sum_, avg,when, isnan,trim,mean, stddev, min, max, count, expr\n",
    "import matplotlib.pyplot as plt\n",
    "import seaborn as sns\n",
    "from pyspark.sql.types import DoubleType, IntegerType,StringType\n",
    "from pyspark.ml.feature import Imputer,VectorAssembler, StringIndexer\n",
    "from pyspark.ml.classification import RandomForestClassifier\n",
    "from pyspark.ml.evaluation import MulticlassClassificationEvaluator\n",
    "from pyspark.ml import Pipeline"
   ]
  },
  {
   "cell_type": "code",
   "execution_count": 4,
   "id": "5d55e8bd",
   "metadata": {
    "scrolled": false
   },
   "outputs": [
    {
     "name": "stdout",
     "output_type": "stream",
     "text": [
      "root\n",
      " |-- Person ID: integer (nullable = true)\n",
      " |-- Gender: string (nullable = true)\n",
      " |-- Age: integer (nullable = true)\n",
      " |-- Occupation: string (nullable = true)\n",
      " |-- Sleep Duration: double (nullable = true)\n",
      " |-- Quality of Sleep: integer (nullable = true)\n",
      " |-- Physical Activity Level: integer (nullable = true)\n",
      " |-- Stress Level: integer (nullable = true)\n",
      " |-- BMI Category: string (nullable = true)\n",
      " |-- Blood Pressure: string (nullable = true)\n",
      " |-- Heart Rate: integer (nullable = true)\n",
      " |-- Daily Steps: integer (nullable = true)\n",
      " |-- Sleep Disorder: string (nullable = true)\n",
      " |-- Has Sleep Disorder: integer (nullable = true)\n",
      "\n"
     ]
    }
   ],
   "source": [
    "\n",
    "#02-DU\n",
    "# Schemas can only be inferred for CSV files. \n",
    "df = spark.read.csv('Datasets/Sleep_health_and_lifestyle_dataset.csv', inferSchema=True, header=True)\n",
    "\n",
    "file_path = \"Datasets/modified_sleep_health_and_lifestyle.csv\"\n",
    "df_merge = spark.read.csv(file_path, header=True, inferSchema=True)\n",
    "\n",
    "\n",
    "df.printSchema()"
   ]
  },
  {
   "cell_type": "code",
   "execution_count": 8,
   "id": "84be965d",
   "metadata": {},
   "outputs": [
    {
     "name": "stdout",
     "output_type": "stream",
     "text": [
      "+---------+------+----+----------+--------------+----------------+-----------------------+------------+------------+--------------+----------+-----------+--------------+------------------+\n",
      "|Person ID|Gender| Age|Occupation|Sleep Duration|Quality of Sleep|Physical Activity Level|Stress Level|BMI Category|Blood Pressure|Heart Rate|Daily Steps|Sleep Disorder|Has Sleep Disorder|\n",
      "+---------+------+----+----------+--------------+----------------+-----------------------+------------+------------+--------------+----------+-----------+--------------+------------------+\n",
      "|        1|Female|  37|   Teacher|           7.4|               8|                     60|           4|      Normal|        114/76|        67|       7000|          None|                 0|\n",
      "|        2|Female|  57|     Nurse|           8.3|               9|                     75|           3|  Overweight|        140/96|        66|       7000|   Sleep Apnea|                 1|\n",
      "|        3|Female|  49|     Nurse|           6.1|               6|                     90|           8|  Overweight|        139/95|        76|      10000|   Sleep Apnea|                 1|\n",
      "|        4|Female|  38|     Nurse|           6.1|               6|                     42|           6|  Overweight|        126/82|        74|       4200|          None|                 0|\n",
      "|        5|  Male|  32|    Doctor|           6.3|               6|                     30|           8|      Normal|        124/81|        72|       5000|          None|                 0|\n",
      "|        6|Female|  45|   Teacher|           7.0|               7|                     45|           4|  Overweight|        134/90|        67|       6000|      Insomnia|                 1|\n",
      "|        7|  Male|  29|    Doctor|          null|               7|                     75|           6|      Normal|        120/81|        73|       8000|          None|                 0|\n",
      "|        8|Female|null|   Teacher|          null|               8|                     60|           4|      Normal|        114/74|        67|       7000|          None|                 0|\n",
      "|        9|Female|  36|Accountant|          null|               8|                     60|           4|      Normal|        114/76|        65|       7000|          None|                 0|\n",
      "|       10|  Male|  42|  Engineer|          null|               8|                     90|           5|      Normal|        129/85|        68|       8000|          None|                 0|\n",
      "|       11|Female|  55|  Engineer|          null|               9|                     30|           3|      Normal|        126/79|        65|       5000|          None|                 0|\n",
      "|       12|  Male|  34|  Engineer|          null|               8|                     60|           4|      Normal|        125/80|        66|       5000|          None|                 0|\n",
      "|       13|Female|  61|     Nurse|          null|               9|                     75|           3|        null|        141/95|        65|       7000|   Sleep Apnea|                 1|\n",
      "|       14|Female|  36|   Teacher|           7.3|               8|                     60|           4|      Normal|        116/74|        67|       7000|          None|                 0|\n",
      "|       15|Female|  59|     Nurse|           8.3|               9|                     75|           3|  Overweight|        140/94|        65|       7000|          None|                 0|\n",
      "|       16|  Male|null|Accountant|           7.4|               8|                     60|           5|      Normal|        129/84|        66|       8000|          None|                 0|\n",
      "|       17|Female|  37|Accountant|           7.4|               8|                     60|           4|      Normal|        116/75|        69|       7000|          None|                 0|\n",
      "|       18|Female|  40|Accountant|           8.1|               9|                     80|           3|      Normal|        116/77|        67|       7500|          None|                 0|\n",
      "|       19|Female|  54|Accountant|           6.3|            null|                     45|           7|  Overweight|        130/84|        69|       6000|      Insomnia|                 1|\n",
      "|       20|Female|  47|   Teacher|           6.6|            null|                     45|           4|  Overweight|        135/89|        65|       6000|      Insomnia|                 1|\n",
      "+---------+------+----+----------+--------------+----------------+-----------------------+------------+------------+--------------+----------+-----------+--------------+------------------+\n",
      "only showing top 20 rows\n",
      "\n"
     ]
    }
   ],
   "source": [
    "df.show()"
   ]
  },
  {
   "cell_type": "code",
   "execution_count": 7,
   "id": "e2fb7a86",
   "metadata": {
    "scrolled": true
   },
   "outputs": [
    {
     "name": "stderr",
     "output_type": "stream",
     "text": [
      "                                                                                \r"
     ]
    },
    {
     "name": "stdout",
     "output_type": "stream",
     "text": [
      "+-------+-----------------+------+-----------------+----------+------------------+------------------+-----------------------+-----------------+------------+--------------+------------------+------------------+--------------+------------------+\n",
      "|summary|        Person ID|Gender|              Age|Occupation|    Sleep Duration|  Quality of Sleep|Physical Activity Level|     Stress Level|BMI Category|Blood Pressure|        Heart Rate|       Daily Steps|Sleep Disorder|Has Sleep Disorder|\n",
      "+-------+-----------------+------+-----------------+----------+------------------+------------------+-----------------------+-----------------+------------+--------------+------------------+------------------+--------------+------------------+\n",
      "|  count|             3000|  3000|             2952|      3000|              2917|              2937|                   2952|             2984|        2957|          2978|              2950|              2946|          3000|              3000|\n",
      "|   mean|           1500.5|  null|42.15176151761518|      null| 7.135515941035303|7.3180115764385425|     59.178523035230356|5.356233243967829|        null|          null| 70.12203389830509| 6840.224032586558|          null|0.4083333333333333|\n",
      "| stddev|866.1697293256098|  null| 8.70690745858783|      null|0.8181121306620083|1.1950421520170527|     20.490039553274645|1.754867189863782|        null|          null|4.5661584046105235|1597.4962851386385|          null|0.4916073448217757|\n",
      "|    min|                1|Female|               26|Accountant|               5.5|                 4|                     30|                3|      Normal|        114/74|                62|              3000|      Insomnia|                 0|\n",
      "|    max|             3000|  Male|               62|   Teacher|               8.9|                 9|                     90|                8|  Overweight|        143/93|                90|             10000|   Sleep Apnea|                 1|\n",
      "+-------+-----------------+------+-----------------+----------+------------------+------------------+-----------------------+-----------------+------------+--------------+------------------+------------------+--------------+------------------+\n",
      "\n"
     ]
    }
   ],
   "source": [
    "df.describe().show()"
   ]
  },
  {
   "cell_type": "code",
   "execution_count": 14,
   "id": "3866410a",
   "metadata": {
    "scrolled": true
   },
   "outputs": [
    {
     "data": {
      "image/png": "[encoded data removed]",
      "text/plain": [
       "<Figure size 432x288 with 1 Axes>"
      ]
     },
     "metadata": {
      "needs_background": "light"
     },
     "output_type": "display_data"
    }
   ],
   "source": [
    "# Count the number of sleep disorders by gender\n",
    "disorder_by_gender = df.groupBy(\"Gender\", \"Sleep Disorder\").agg(count(\"*\").alias(\"count\"))\n",
    "\n",
    "# Calculate the total number of each gender to compute the percentage\n",
    "total_by_gender = disorder_by_gender.groupBy(\"Gender\").agg(sum_(\"count\").alias(\"total\"))\n",
    "\n",
    "# Calculate percentage and convert to a new DataFrame\n",
    "disorder_by_gender_percentage = disorder_by_gender.join(total_by_gender, \"Gender\")\\\n",
    "    .withColumn(\"percentage\", col(\"count\") / col(\"total\") * 100)\\\n",
    "    .select(\"Gender\", \"Sleep Disorder\", \"percentage\")\n",
    "\n",
    "# Collect data locally for Matplotlib plotting\n",
    "data = disorder_by_gender_percentage.collect()\n",
    "\n",
    "# Prepare plotting data\n",
    "genders = sorted(list(set([row['Gender'] for row in data])))\n",
    "disorders = sorted(list(set([row['Sleep Disorder'] for row in data])))\n",
    "data_dict = {gender: {disorder: 0 for disorder in disorders} for gender in genders}\n",
    "\n",
    "for row in data:\n",
    "    data_dict[row['Gender']][row['Sleep Disorder']] = row['percentage']\n",
    "\n",
    "# Convert data to a format suitable for plotting\n",
    "plot_data = {key: [data_dict[key][disorder] for disorder in disorders] for key in genders}\n",
    "\n",
    "# Plot stacked bar chart\n",
    "fig, ax = plt.subplots()\n",
    "\n",
    "bottom = [0] * len(genders)\n",
    "for disorder in disorders:\n",
    "    values = [plot_data[gender][disorders.index(disorder)] for gender in genders]\n",
    "    ax.bar(genders, values, bottom=bottom, label=disorder)\n",
    "    bottom = [i + j for i, j in zip(bottom, values)]\n",
    "\n",
    "# Add title and axis labels\n",
    "ax.set_title('Proportion of Sleep Disorders by Gender')\n",
    "ax.set_xlabel('Gender')\n",
    "ax.set_ylabel('Percentage of Participants (%)')\n",
    "\n",
    "# Add legend\n",
    "ax.legend(title='Sleep Disorder')\n",
    "\n",
    "# Add percentage annotations on the bars\n",
    "for i, gender in enumerate(genders):\n",
    "    for j, disorder in enumerate(disorders):\n",
    "        percentage = data_dict[gender][disorder]\n",
    "        if percentage > 0:\n",
    "            ax.text(i, bottom[i] - plot_data[gender][j] / 2, f'{percentage:.1f}%', ha='center', va='center', color='white')\n",
    "\n",
    "# Show plot\n",
    "plt.tight_layout()\n",
    "plt.show()\n"
   ]
  },
  {
   "cell_type": "code",
   "execution_count": 20,
   "id": "dfc9c8c2",
   "metadata": {},
   "outputs": [
    {
     "ename": "NameError",
     "evalue": "name 'np' is not defined",
     "output_type": "error",
     "traceback": [
      "\u001b[0;31m---------------------------------------------------------------------------\u001b[0m",
      "\u001b[0;31mNameError\u001b[0m                                 Traceback (most recent call last)",
      "Input \u001b[0;32mIn [20]\u001b[0m, in \u001b[0;36m<cell line: 19>\u001b[0;34m()\u001b[0m\n\u001b[1;32m     16\u001b[0m plt\u001b[38;5;241m.\u001b[39mscatter(ages, average_disorders, label\u001b[38;5;241m=\u001b[39m\u001b[38;5;124m'\u001b[39m\u001b[38;5;124mData Points\u001b[39m\u001b[38;5;124m'\u001b[39m)\n\u001b[1;32m     18\u001b[0m \u001b[38;5;66;03m# Fit a trend line to the data\u001b[39;00m\n\u001b[0;32m---> 19\u001b[0m z \u001b[38;5;241m=\u001b[39m \u001b[43mnp\u001b[49m\u001b[38;5;241m.\u001b[39mpolyfit(ages, average_disorders, \u001b[38;5;241m1\u001b[39m)\n\u001b[1;32m     20\u001b[0m p \u001b[38;5;241m=\u001b[39m np\u001b[38;5;241m.\u001b[39mpoly1d(z)\n\u001b[1;32m     21\u001b[0m plt\u001b[38;5;241m.\u001b[39mplot(ages, p(ages), \u001b[38;5;124m\"\u001b[39m\u001b[38;5;124mr--\u001b[39m\u001b[38;5;124m\"\u001b[39m, label\u001b[38;5;241m=\u001b[39m\u001b[38;5;124m'\u001b[39m\u001b[38;5;124mTrend Line\u001b[39m\u001b[38;5;124m'\u001b[39m)\n",
      "\u001b[0;31mNameError\u001b[0m: name 'np' is not defined"
     ]
    },
    {
     "data": {
      "image/png": "[encoded data removed]",
      "text/plain": [
       "<Figure size 432x288 with 1 Axes>"
      ]
     },
     "metadata": {
      "needs_background": "light"
     },
     "output_type": "display_data"
    }
   ],
   "source": [
    "## Filter out rows where 'Age' is None\n",
    "df = df.filter(col(\"Age\").isNotNull())\n",
    "\n",
    "# Group data by 'Age' and calculate the mean value of 'Has Sleep Disorder' for each age\n",
    "age_disorder_relation = df.groupBy(\"Age\").agg(avg(\"Has Sleep Disorder\").alias(\"average_disorder\"))\n",
    "\n",
    "# Collect data locally for plotting\n",
    "data = age_disorder_relation.collect()\n",
    "data.sort(key=lambda x: x['Age'])\n",
    "\n",
    "# Extract age and average disorder values\n",
    "ages = [row['Age'] for row in data]\n",
    "average_disorders = [row['average_disorder'] for row in data]\n",
    "\n",
    "# Create a scatter plot of the age and proportion of sleep disorders\n",
    "plt.scatter(ages, average_disorders, label='Data Points')\n",
    "\n",
    "# Fit a trend line to the data\n",
    "z = np.polyfit(ages, average_disorders, 1)\n",
    "p = np.poly1d(z)\n",
    "plt.plot(ages, p(ages), \"r--\", label='Trend Line')\n",
    "\n",
    "# Set plot title and labels\n",
    "plt.title('Relationship between Age and Sleep Disorders')\n",
    "plt.xlabel('Age')\n",
    "plt.ylabel('Proportion with Sleep Disorders')\n",
    "\n",
    "# Show the plot\n",
    "plt.legend()\n",
    "plt.tight_layout()\n",
    "plt.show()"
   ]
  },
  {
   "cell_type": "code",
   "execution_count": 32,
   "id": "46c897c0",
   "metadata": {
    "scrolled": true
   },
   "outputs": [
    {
     "data": {
      "image/png": "[encoded data removed]",
      "text/plain": [
       "<Figure size 720x432 with 1 Axes>"
      ]
     },
     "metadata": {
      "needs_background": "light"
     },
     "output_type": "display_data"
    }
   ],
   "source": [
    "# Filter out rows where 'BMI Category' or 'Has Sleep Disorder' is None\n",
    "df_filtered = df.filter(col(\"BMI Category\").isNotNull() & col(\"Has Sleep Disorder\").isNotNull())\n",
    "\n",
    "# Collect data for plotting\n",
    "data = df_filtered.select(\"BMI Category\", \"Has Sleep Disorder\").collect()\n",
    "\n",
    "# Prepare data for plotting\n",
    "bmi_categories = [row['BMI Category'] for row in data]\n",
    "has_sleep_disorder = [row['Has Sleep Disorder'] for row in data]\n",
    "\n",
    "# Create a dictionary for plotting\n",
    "plot_data = {'BMI Category': bmi_categories, 'Has Sleep Disorder': has_sleep_disorder}\n",
    "\n",
    "# Create a figure and axis for the plot\n",
    "plt.figure(figsize=(10, 6))  # Set the figure size\n",
    "sns.boxplot(x='BMI Category', y='Has Sleep Disorder', data=plot_data)\n",
    "\n",
    "# Set the title and labels\n",
    "plt.title('Box Plot of Sleep Disorder Status by BMI Category')\n",
    "plt.xlabel('BMI Category')\n",
    "plt.ylabel('Has Sleep Disorder')\n",
    "\n",
    "# Show the plot\n",
    "plt.show()"
   ]
  },
  {
   "cell_type": "code",
   "execution_count": 39,
   "id": "1efec4d2",
   "metadata": {
    "scrolled": true
   },
   "outputs": [
    {
     "data": {
      "image/png": "[encoded data removed]",
      "text/plain": [
       "<Figure size 720x432 with 1 Axes>"
      ]
     },
     "metadata": {
      "needs_background": "light"
     },
     "output_type": "display_data"
    }
   ],
   "source": [
    "# Select relevant columns and drop rows with missing values\n",
    "df = df.select(\"Has Sleep Disorder\", \"Sleep Duration\").dropna()\n",
    "\n",
    "# Convert to Pandas DataFrame for plotting\n",
    "df_pd = df.toPandas()\n",
    "# Plotting\n",
    "plt.figure(figsize=(10, 6))\n",
    "sns.stripplot(x=\"Has Sleep Disorder\", y=\"Sleep Duration\", data=df_pd, jitter=True, alpha=0.5)\n",
    "plt.title(\"Relationship Between Sleep Disorders and Sleep Duration\")\n",
    "plt.xlabel(\"Has Sleep Disorder\")\n",
    "plt.ylabel(\"Sleep Duration\")\n",
    "plt.show()"
   ]
  },
  {
   "cell_type": "code",
   "execution_count": 44,
   "id": "a15c6def",
   "metadata": {},
   "outputs": [
    {
     "ename": "AnalysisException",
     "evalue": "Cannot resolve column name \"Occupation\" among (Has Sleep Disorder, Sleep Duration)",
     "output_type": "error",
     "traceback": [
      "\u001b[0;31m---------------------------------------------------------------------------\u001b[0m",
      "\u001b[0;31mAnalysisException\u001b[0m                         Traceback (most recent call last)",
      "Input \u001b[0;32mIn [44]\u001b[0m, in \u001b[0;36m<cell line: 2>\u001b[0;34m()\u001b[0m\n\u001b[1;32m      1\u001b[0m \u001b[38;5;66;03m# Fill missing values in 'Occupation' and 'Has Sleep Disorder' columns\u001b[39;00m\n\u001b[0;32m----> 2\u001b[0m df \u001b[38;5;241m=\u001b[39m \u001b[43mdf\u001b[49m\u001b[38;5;241;43m.\u001b[39;49m\u001b[43mfillna\u001b[49m\u001b[43m(\u001b[49m\u001b[43m{\u001b[49m\u001b[38;5;124;43m\"\u001b[39;49m\u001b[38;5;124;43mOccupation\u001b[39;49m\u001b[38;5;124;43m\"\u001b[39;49m\u001b[43m:\u001b[49m\u001b[43m \u001b[49m\u001b[38;5;124;43m\"\u001b[39;49m\u001b[38;5;124;43mUnknown\u001b[39;49m\u001b[38;5;124;43m\"\u001b[39;49m\u001b[43m,\u001b[49m\u001b[43m \u001b[49m\u001b[38;5;124;43m\"\u001b[39;49m\u001b[38;5;124;43mHas Sleep Disorder\u001b[39;49m\u001b[38;5;124;43m\"\u001b[39;49m\u001b[43m:\u001b[49m\u001b[43m \u001b[49m\u001b[38;5;241;43m0\u001b[39;49m\u001b[43m}\u001b[49m\u001b[43m)\u001b[49m\n\u001b[1;32m      4\u001b[0m \u001b[38;5;66;03m# Calculate the count of each occupation with sleep disorders\u001b[39;00m\n\u001b[1;32m      5\u001b[0m occupation_disorder_count \u001b[38;5;241m=\u001b[39m df\u001b[38;5;241m.\u001b[39mgroupBy(\u001b[38;5;124m\"\u001b[39m\u001b[38;5;124mOccupation\u001b[39m\u001b[38;5;124m\"\u001b[39m)\u001b[38;5;241m.\u001b[39magg(count(when(col(\u001b[38;5;124m\"\u001b[39m\u001b[38;5;124mHas Sleep Disorder\u001b[39m\u001b[38;5;124m\"\u001b[39m) \u001b[38;5;241m==\u001b[39m \u001b[38;5;241m1\u001b[39m, \u001b[38;5;28;01mTrue\u001b[39;00m))\u001b[38;5;241m.\u001b[39malias(\u001b[38;5;124m\"\u001b[39m\u001b[38;5;124mcount_disorder\u001b[39m\u001b[38;5;124m\"\u001b[39m))\n",
      "File \u001b[0;32m~/spark-3.2.1-bin-hadoop2.7/python/pyspark/sql/dataframe.py:2097\u001b[0m, in \u001b[0;36mDataFrame.fillna\u001b[0;34m(self, value, subset)\u001b[0m\n\u001b[1;32m   2094\u001b[0m     value \u001b[38;5;241m=\u001b[39m \u001b[38;5;28mfloat\u001b[39m(value)\n\u001b[1;32m   2096\u001b[0m \u001b[38;5;28;01mif\u001b[39;00m \u001b[38;5;28misinstance\u001b[39m(value, \u001b[38;5;28mdict\u001b[39m):\n\u001b[0;32m-> 2097\u001b[0m     \u001b[38;5;28;01mreturn\u001b[39;00m DataFrame(\u001b[38;5;28;43mself\u001b[39;49m\u001b[38;5;241;43m.\u001b[39;49m\u001b[43m_jdf\u001b[49m\u001b[38;5;241;43m.\u001b[39;49m\u001b[43mna\u001b[49m\u001b[43m(\u001b[49m\u001b[43m)\u001b[49m\u001b[38;5;241;43m.\u001b[39;49m\u001b[43mfill\u001b[49m\u001b[43m(\u001b[49m\u001b[43mvalue\u001b[49m\u001b[43m)\u001b[49m, \u001b[38;5;28mself\u001b[39m\u001b[38;5;241m.\u001b[39msql_ctx)\n\u001b[1;32m   2098\u001b[0m \u001b[38;5;28;01melif\u001b[39;00m subset \u001b[38;5;129;01mis\u001b[39;00m \u001b[38;5;28;01mNone\u001b[39;00m:\n\u001b[1;32m   2099\u001b[0m     \u001b[38;5;28;01mreturn\u001b[39;00m DataFrame(\u001b[38;5;28mself\u001b[39m\u001b[38;5;241m.\u001b[39m_jdf\u001b[38;5;241m.\u001b[39mna()\u001b[38;5;241m.\u001b[39mfill(value), \u001b[38;5;28mself\u001b[39m\u001b[38;5;241m.\u001b[39msql_ctx)\n",
      "File \u001b[0;32m~/spark-3.2.1-bin-hadoop2.7/python/lib/py4j-0.10.9.3-src.zip/py4j/java_gateway.py:1321\u001b[0m, in \u001b[0;36mJavaMember.__call__\u001b[0;34m(self, *args)\u001b[0m\n\u001b[1;32m   1315\u001b[0m command \u001b[38;5;241m=\u001b[39m proto\u001b[38;5;241m.\u001b[39mCALL_COMMAND_NAME \u001b[38;5;241m+\u001b[39m\\\n\u001b[1;32m   1316\u001b[0m     \u001b[38;5;28mself\u001b[39m\u001b[38;5;241m.\u001b[39mcommand_header \u001b[38;5;241m+\u001b[39m\\\n\u001b[1;32m   1317\u001b[0m     args_command \u001b[38;5;241m+\u001b[39m\\\n\u001b[1;32m   1318\u001b[0m     proto\u001b[38;5;241m.\u001b[39mEND_COMMAND_PART\n\u001b[1;32m   1320\u001b[0m answer \u001b[38;5;241m=\u001b[39m \u001b[38;5;28mself\u001b[39m\u001b[38;5;241m.\u001b[39mgateway_client\u001b[38;5;241m.\u001b[39msend_command(command)\n\u001b[0;32m-> 1321\u001b[0m return_value \u001b[38;5;241m=\u001b[39m \u001b[43mget_return_value\u001b[49m\u001b[43m(\u001b[49m\n\u001b[1;32m   1322\u001b[0m \u001b[43m    \u001b[49m\u001b[43manswer\u001b[49m\u001b[43m,\u001b[49m\u001b[43m \u001b[49m\u001b[38;5;28;43mself\u001b[39;49m\u001b[38;5;241;43m.\u001b[39;49m\u001b[43mgateway_client\u001b[49m\u001b[43m,\u001b[49m\u001b[43m \u001b[49m\u001b[38;5;28;43mself\u001b[39;49m\u001b[38;5;241;43m.\u001b[39;49m\u001b[43mtarget_id\u001b[49m\u001b[43m,\u001b[49m\u001b[43m \u001b[49m\u001b[38;5;28;43mself\u001b[39;49m\u001b[38;5;241;43m.\u001b[39;49m\u001b[43mname\u001b[49m\u001b[43m)\u001b[49m\n\u001b[1;32m   1324\u001b[0m \u001b[38;5;28;01mfor\u001b[39;00m temp_arg \u001b[38;5;129;01min\u001b[39;00m temp_args:\n\u001b[1;32m   1325\u001b[0m     temp_arg\u001b[38;5;241m.\u001b[39m_detach()\n",
      "File \u001b[0;32m~/spark-3.2.1-bin-hadoop2.7/python/pyspark/sql/utils.py:117\u001b[0m, in \u001b[0;36mcapture_sql_exception.<locals>.deco\u001b[0;34m(*a, **kw)\u001b[0m\n\u001b[1;32m    113\u001b[0m converted \u001b[38;5;241m=\u001b[39m convert_exception(e\u001b[38;5;241m.\u001b[39mjava_exception)\n\u001b[1;32m    114\u001b[0m \u001b[38;5;28;01mif\u001b[39;00m \u001b[38;5;129;01mnot\u001b[39;00m \u001b[38;5;28misinstance\u001b[39m(converted, UnknownException):\n\u001b[1;32m    115\u001b[0m     \u001b[38;5;66;03m# Hide where the exception came from that shows a non-Pythonic\u001b[39;00m\n\u001b[1;32m    116\u001b[0m     \u001b[38;5;66;03m# JVM exception message.\u001b[39;00m\n\u001b[0;32m--> 117\u001b[0m     \u001b[38;5;28;01mraise\u001b[39;00m converted \u001b[38;5;28;01mfrom\u001b[39;00m \u001b[38;5;28mNone\u001b[39m\n\u001b[1;32m    118\u001b[0m \u001b[38;5;28;01melse\u001b[39;00m:\n\u001b[1;32m    119\u001b[0m     \u001b[38;5;28;01mraise\u001b[39;00m\n",
      "\u001b[0;31mAnalysisException\u001b[0m: Cannot resolve column name \"Occupation\" among (Has Sleep Disorder, Sleep Duration)"
     ]
    }
   ],
   "source": [
    "# Fill missing values in 'Occupation' and 'Has Sleep Disorder' columns\n",
    "df = df.fillna({\"Occupation\": \"Unknown\", \"Has Sleep Disorder\": 0})\n",
    "\n",
    "# Calculate the count of each occupation with sleep disorders\n",
    "occupation_disorder_count = df.groupBy(\"Occupation\").agg(count(when(col(\"Has Sleep Disorder\") == 1, True)).alias(\"count_disorder\"))\n",
    "\n",
    "# Calculate the total count of each occupation\n",
    "occupation_total_count = df.groupBy(\"Occupation\").agg(count(\"Person ID\").alias(\"total_count\"))\n",
    "\n",
    "# Calculate the percentage\n",
    "occupation_disorder_percentage = occupation_disorder_count.join(occupation_total_count, \"Occupation\")\n",
    "occupation_disorder_percentage = occupation_disorder_percentage.withColumn(\"percentage\", (col(\"count_disorder\") / col(\"total_count\")) * 100)\n",
    "\n",
    "# Convert the result to pandas DataFrame for plotting\n",
    "occupation_disorder_percentage_pd = occupation_disorder_percentage.toPandas()\n",
    "\n",
    "# Sort the DataFrame by percentage\n",
    "occupation_disorder_percentage_pd = occupation_disorder_percentage_pd.sort_values(by=\"percentage\", ascending=False)\n",
    "\n",
    "# Plotting\n",
    "plt.figure(figsize=(12, 8))\n",
    "sns.barplot(x=\"percentage\", y=\"Occupation\", data=occupation_disorder_percentage_pd, palette=\"coolwarm\")\n",
    "for index, row in occupation_disorder_percentage_pd.iterrows():\n",
    "    plt.text(row[\"percentage\"], index, f'{row[\"percentage\"]:.2f}% | Count: {int(row[\"count_disorder\"])}', color='black', ha=\"left\", va=\"center\")\n",
    "plt.title(\"Proportion of Sleep Disorders by Occupation\")\n",
    "plt.xlabel(\"Proportion (%)\")\n",
    "plt.ylabel(\"Occupation\")\n",
    "plt.show()"
   ]
  },
  {
   "cell_type": "code",
   "execution_count": 63,
   "id": "a3649bc9",
   "metadata": {
    "scrolled": true
   },
   "outputs": [
    {
     "name": "stdout",
     "output_type": "stream",
     "text": [
      "+------------------+----------------+--------------------+--------+--------+\n",
      "|Field             |Completeness (%)|Missing Values Count|Outliers|Extremes|\n",
      "+------------------+----------------+--------------------+--------+--------+\n",
      "|Has Sleep Disorder|0.0             |0                   |0       |0       |\n",
      "|Sleep Duration    |0.0             |0                   |0       |0       |\n",
      "+------------------+----------------+--------------------+--------+--------+\n",
      "\n"
     ]
    }
   ],
   "source": [
    "# 2.4 Verify the Data\n",
    "# Define function to calculate completeness\n",
    "def completeness(column):\n",
    "    return (df.filter((col(column).isNotNull()) & (col(column) != \"\")).count() / df.count()) * 100\n",
    "\n",
    "# Define function to calculate missing values\n",
    "def missing_values(column):\n",
    "    return df.filter((col(column).isNull()) | (col(column) == \"\")).count()\n",
    "\n",
    "# Define function to calculate outliers\n",
    "def outlier_count(column):\n",
    "    if isinstance(df.schema[column].dataType, (DoubleType, IntegerType)):\n",
    "        Q1 = df.approxQuantile(column, [0.25], 0.01)[0]\n",
    "        Q3 = df.approxQuantile(column, [0.75], 0.01)[0]\n",
    "        IQR = Q3 - Q1\n",
    "        lower_bound = Q1 - 1.5 * IQR\n",
    "        upper_bound = Q3 + 1.5 * IQR\n",
    "        return df.filter((col(column) < lower_bound) | (col(column) > upper_bound)).count()\n",
    "    return 0\n",
    "\n",
    "# Define function to calculate extremes\n",
    "def extreme_count(column):\n",
    "    if isinstance(df.schema[column].dataType, (DoubleType, IntegerType)):\n",
    "        Q1 = df.approxQuantile(column, [0.25], 0.01)[0]\n",
    "        Q3 = df.approxQuantile(column, [0.75], 0.01)[0]\n",
    "        IQR = Q3 - Q1\n",
    "        lower_bound = Q1 - 3 * IQR\n",
    "        upper_bound = Q3 + 3 * IQR\n",
    "        return df.filter((col(column) < lower_bound) | (col(column) > upper_bound)).count()\n",
    "    return 0\n",
    "\n",
    "# Calculate completeness, missing values, outliers, and extremes for each column\n",
    "columns = df.columns\n",
    "completeness_dict = {column: completeness(column) for column in columns}\n",
    "missing_values_dict = {column: missing_values(column) for column in columns}\n",
    "outliers_dict = {column: outlier_count(column) for column in columns}\n",
    "extremes_dict = {column: extreme_count(column) for column in columns}\n",
    "\n",
    "# Create a summary DataFrame\n",
    "summary_data = [(column, completeness_dict[column], missing_values_dict[column], outliers_dict[column], extremes_dict[column]) for column in columns]\n",
    "summary_df = spark.createDataFrame(summary_data, [\"Field\", \"Completeness (%)\", \"Missing Values Count\", \"Outliers\", \"Extremes\"])\n",
    "\n",
    "# Display the data quality summary\n",
    "summary_df.show(truncate=False)"
   ]
  },
  {
   "cell_type": "code",
   "execution_count": 10,
   "id": "eab502bb",
   "metadata": {
    "scrolled": true
   },
   "outputs": [
    {
     "data": {
      "text/html": [
       "<div>\n",
       "<style scoped>\n",
       "    .dataframe tbody tr th:only-of-type {\n",
       "        vertical-align: middle;\n",
       "    }\n",
       "\n",
       "    .dataframe tbody tr th {\n",
       "        vertical-align: top;\n",
       "    }\n",
       "\n",
       "    .dataframe thead th {\n",
       "        text-align: right;\n",
       "    }\n",
       "</style>\n",
       "<table border=\"1\" class=\"dataframe\">\n",
       "  <thead>\n",
       "    <tr style=\"text-align: right;\">\n",
       "      <th></th>\n",
       "      <th>index</th>\n",
       "      <th>25th</th>\n",
       "      <th>50th</th>\n",
       "      <th>75th</th>\n",
       "      <th>count</th>\n",
       "      <th>max</th>\n",
       "      <th>mean</th>\n",
       "      <th>min</th>\n",
       "      <th>stddev</th>\n",
       "    </tr>\n",
       "  </thead>\n",
       "  <tbody>\n",
       "    <tr>\n",
       "      <th>0</th>\n",
       "      <td>Age</td>\n",
       "      <td>NaN</td>\n",
       "      <td>NaN</td>\n",
       "      <td>NaN</td>\n",
       "      <td>NaN</td>\n",
       "      <td>62.0</td>\n",
       "      <td>42.151762</td>\n",
       "      <td>26.0</td>\n",
       "      <td>8.706907</td>\n",
       "    </tr>\n",
       "    <tr>\n",
       "      <th>1</th>\n",
       "      <td>Daily Steps</td>\n",
       "      <td>NaN</td>\n",
       "      <td>NaN</td>\n",
       "      <td>NaN</td>\n",
       "      <td>2946.0</td>\n",
       "      <td>10000.0</td>\n",
       "      <td>6840.224033</td>\n",
       "      <td>3000.0</td>\n",
       "      <td>1597.496285</td>\n",
       "    </tr>\n",
       "    <tr>\n",
       "      <th>2</th>\n",
       "      <td>Heart Rate</td>\n",
       "      <td>NaN</td>\n",
       "      <td>NaN</td>\n",
       "      <td>NaN</td>\n",
       "      <td>2950.0</td>\n",
       "      <td>90.0</td>\n",
       "      <td>70.122034</td>\n",
       "      <td>62.0</td>\n",
       "      <td>4.566158</td>\n",
       "    </tr>\n",
       "    <tr>\n",
       "      <th>3</th>\n",
       "      <td>Physical Activity Level</td>\n",
       "      <td>NaN</td>\n",
       "      <td>NaN</td>\n",
       "      <td>NaN</td>\n",
       "      <td>2952.0</td>\n",
       "      <td>90.0</td>\n",
       "      <td>59.178523</td>\n",
       "      <td>30.0</td>\n",
       "      <td>20.490040</td>\n",
       "    </tr>\n",
       "    <tr>\n",
       "      <th>4</th>\n",
       "      <td>Quality of Sleep</td>\n",
       "      <td>NaN</td>\n",
       "      <td>NaN</td>\n",
       "      <td>NaN</td>\n",
       "      <td>2937.0</td>\n",
       "      <td>9.0</td>\n",
       "      <td>7.318012</td>\n",
       "      <td>4.0</td>\n",
       "      <td>1.195042</td>\n",
       "    </tr>\n",
       "    <tr>\n",
       "      <th>5</th>\n",
       "      <td>Sleep Duration</td>\n",
       "      <td>NaN</td>\n",
       "      <td>NaN</td>\n",
       "      <td>NaN</td>\n",
       "      <td>2917.0</td>\n",
       "      <td>8.9</td>\n",
       "      <td>7.135516</td>\n",
       "      <td>5.5</td>\n",
       "      <td>0.818112</td>\n",
       "    </tr>\n",
       "    <tr>\n",
       "      <th>6</th>\n",
       "      <td>Stress Level</td>\n",
       "      <td>NaN</td>\n",
       "      <td>NaN</td>\n",
       "      <td>NaN</td>\n",
       "      <td>2984.0</td>\n",
       "      <td>8.0</td>\n",
       "      <td>5.356233</td>\n",
       "      <td>3.0</td>\n",
       "      <td>1.754867</td>\n",
       "    </tr>\n",
       "    <tr>\n",
       "      <th>7</th>\n",
       "      <td>`Age`</td>\n",
       "      <td>36.0</td>\n",
       "      <td>42.0</td>\n",
       "      <td>49.0</td>\n",
       "      <td>NaN</td>\n",
       "      <td>NaN</td>\n",
       "      <td>NaN</td>\n",
       "      <td>NaN</td>\n",
       "      <td>NaN</td>\n",
       "    </tr>\n",
       "    <tr>\n",
       "      <th>8</th>\n",
       "      <td>`Daily Steps`</td>\n",
       "      <td>6000.0</td>\n",
       "      <td>7000.0</td>\n",
       "      <td>8000.0</td>\n",
       "      <td>NaN</td>\n",
       "      <td>NaN</td>\n",
       "      <td>NaN</td>\n",
       "      <td>NaN</td>\n",
       "      <td>NaN</td>\n",
       "    </tr>\n",
       "    <tr>\n",
       "      <th>9</th>\n",
       "      <td>`Heart Rate`</td>\n",
       "      <td>67.0</td>\n",
       "      <td>70.0</td>\n",
       "      <td>73.0</td>\n",
       "      <td>NaN</td>\n",
       "      <td>NaN</td>\n",
       "      <td>NaN</td>\n",
       "      <td>NaN</td>\n",
       "      <td>NaN</td>\n",
       "    </tr>\n",
       "    <tr>\n",
       "      <th>10</th>\n",
       "      <td>`Physical Activity Level`</td>\n",
       "      <td>45.0</td>\n",
       "      <td>60.0</td>\n",
       "      <td>75.0</td>\n",
       "      <td>NaN</td>\n",
       "      <td>NaN</td>\n",
       "      <td>NaN</td>\n",
       "      <td>NaN</td>\n",
       "      <td>NaN</td>\n",
       "    </tr>\n",
       "    <tr>\n",
       "      <th>11</th>\n",
       "      <td>`Quality of Sleep`</td>\n",
       "      <td>6.0</td>\n",
       "      <td>7.0</td>\n",
       "      <td>8.0</td>\n",
       "      <td>NaN</td>\n",
       "      <td>NaN</td>\n",
       "      <td>NaN</td>\n",
       "      <td>NaN</td>\n",
       "      <td>NaN</td>\n",
       "    </tr>\n",
       "    <tr>\n",
       "      <th>12</th>\n",
       "      <td>`Sleep Duration`</td>\n",
       "      <td>6.4</td>\n",
       "      <td>7.2</td>\n",
       "      <td>7.8</td>\n",
       "      <td>NaN</td>\n",
       "      <td>NaN</td>\n",
       "      <td>NaN</td>\n",
       "      <td>NaN</td>\n",
       "      <td>NaN</td>\n",
       "    </tr>\n",
       "    <tr>\n",
       "      <th>13</th>\n",
       "      <td>`Stress Level`</td>\n",
       "      <td>4.0</td>\n",
       "      <td>5.0</td>\n",
       "      <td>7.0</td>\n",
       "      <td>NaN</td>\n",
       "      <td>NaN</td>\n",
       "      <td>NaN</td>\n",
       "      <td>NaN</td>\n",
       "      <td>NaN</td>\n",
       "    </tr>\n",
       "  </tbody>\n",
       "</table>\n",
       "</div>"
      ],
      "text/plain": [
       "                        index    25th    50th    75th   count      max  \\\n",
       "0                         Age     NaN     NaN     NaN     NaN     62.0   \n",
       "1                 Daily Steps     NaN     NaN     NaN  2946.0  10000.0   \n",
       "2                  Heart Rate     NaN     NaN     NaN  2950.0     90.0   \n",
       "3     Physical Activity Level     NaN     NaN     NaN  2952.0     90.0   \n",
       "4            Quality of Sleep     NaN     NaN     NaN  2937.0      9.0   \n",
       "5              Sleep Duration     NaN     NaN     NaN  2917.0      8.9   \n",
       "6                Stress Level     NaN     NaN     NaN  2984.0      8.0   \n",
       "7                       `Age`    36.0    42.0    49.0     NaN      NaN   \n",
       "8               `Daily Steps`  6000.0  7000.0  8000.0     NaN      NaN   \n",
       "9                `Heart Rate`    67.0    70.0    73.0     NaN      NaN   \n",
       "10  `Physical Activity Level`    45.0    60.0    75.0     NaN      NaN   \n",
       "11         `Quality of Sleep`     6.0     7.0     8.0     NaN      NaN   \n",
       "12           `Sleep Duration`     6.4     7.2     7.8     NaN      NaN   \n",
       "13             `Stress Level`     4.0     5.0     7.0     NaN      NaN   \n",
       "\n",
       "           mean     min       stddev  \n",
       "0     42.151762    26.0     8.706907  \n",
       "1   6840.224033  3000.0  1597.496285  \n",
       "2     70.122034    62.0     4.566158  \n",
       "3     59.178523    30.0    20.490040  \n",
       "4      7.318012     4.0     1.195042  \n",
       "5      7.135516     5.5     0.818112  \n",
       "6      5.356233     3.0     1.754867  \n",
       "7           NaN     NaN          NaN  \n",
       "8           NaN     NaN          NaN  \n",
       "9           NaN     NaN          NaN  \n",
       "10          NaN     NaN          NaN  \n",
       "11          NaN     NaN          NaN  \n",
       "12          NaN     NaN          NaN  \n",
       "13          NaN     NaN          NaN  "
      ]
     },
     "execution_count": 10,
     "metadata": {},
     "output_type": "execute_result"
    }
   ],
   "source": [
    "# Select numeric columns for descriptive statistics\n",
    "numeric_columns = [\n",
    "    'Age', 'Sleep Duration', 'Quality of Sleep', 'Physical Activity Level',\n",
    "    'Stress Level', 'Heart Rate', 'Daily Steps'\n",
    "]\n",
    "\n",
    "# Wrap column names with backticks\n",
    "numeric_columns_quoted = [f\"`{col}`\" for col in numeric_columns]\n",
    "\n",
    "# Calculate descriptive statistics\n",
    "desc_stats = df.select(\n",
    "    [count(col(c)).alias(f\"{c}_count\") for c in numeric_columns] +\n",
    "    [mean(col(c)).alias(f\"{c}_mean\") for c in numeric_columns] +\n",
    "    [stddev(col(c)).alias(f\"{c}_stddev\") for c in numeric_columns] +\n",
    "    [min(col(c)).alias(f\"{c}_min\") for c in numeric_columns] +\n",
    "    [max(col(c)).alias(f\"{c}_max\") for c in numeric_columns] +\n",
    "    [expr(f\"percentile_approx({c}, 0.25)\").alias(f\"{c}_25th\") for c in numeric_columns_quoted] +\n",
    "    [expr(f\"percentile_approx({c}, 0.5)\").alias(f\"{c}_50th\") for c in numeric_columns_quoted] +\n",
    "    [expr(f\"percentile_approx({c}, 0.75)\").alias(f\"{c}_75th\") for c in numeric_columns_quoted]\n",
    ")\n",
    "\n",
    "# Convert to Pandas DataFrame for easier viewing\n",
    "desc_stats_pd = desc_stats.toPandas().transpose()\n",
    "desc_stats_pd.columns = desc_stats_pd.iloc[0]\n",
    "desc_stats_pd = desc_stats_pd.drop(desc_stats_pd.index[0])\n",
    "\n",
    "# Split the index to separate field names and statistics\n",
    "desc_stats_pd.index = desc_stats_pd.index.str.rsplit('_', 1, expand=True)\n",
    "desc_stats_final = desc_stats_pd.unstack(level=-1)\n",
    "desc_stats_final.columns = desc_stats_final.columns.droplevel(0)\n",
    "desc_stats_final.reset_index(inplace=True)\n",
    "desc_stats_final.columns.name = None\n",
    "\n",
    "# Display the final DataFrame\n",
    "desc_stats_final"
   ]
  },
  {
   "cell_type": "code",
   "execution_count": 11,
   "id": "38b3c888",
   "metadata": {},
   "outputs": [
    {
     "name": "stdout",
     "output_type": "stream",
     "text": [
      "+--------------+\n",
      "|Blood Pressure|\n",
      "+--------------+\n",
      "|114/76        |\n",
      "|140/96        |\n",
      "|139/95        |\n",
      "|126/82        |\n",
      "|124/81        |\n",
      "|134/90        |\n",
      "|120/81        |\n",
      "|114/74        |\n",
      "|114/76        |\n",
      "|129/85        |\n",
      "|126/79        |\n",
      "|125/80        |\n",
      "|141/95        |\n",
      "|116/74        |\n",
      "|140/94        |\n",
      "|129/84        |\n",
      "|116/75        |\n",
      "|116/77        |\n",
      "|130/84        |\n",
      "|135/89        |\n",
      "+--------------+\n",
      "only showing top 20 rows\n",
      "\n"
     ]
    }
   ],
   "source": [
    "# Select the Blood Pressure column\n",
    "bp_df = df.select(\"Blood Pressure\")\n",
    "\n",
    "# Show the Blood Pressure column data\n",
    "bp_df.show(20, truncate=False)"
   ]
  },
  {
   "cell_type": "code",
   "execution_count": 16,
   "id": "d8ec4492",
   "metadata": {
    "scrolled": true
   },
   "outputs": [
    {
     "name": "stdout",
     "output_type": "stream",
     "text": [
      "root\n",
      " |-- Person ID: integer (nullable = true)\n",
      " |-- Gender: string (nullable = true)\n",
      " |-- Age: integer (nullable = true)\n",
      " |-- Occupation: string (nullable = true)\n",
      " |-- Sleep Duration: double (nullable = true)\n",
      " |-- Quality of Sleep: integer (nullable = true)\n",
      " |-- Physical Activity Level: integer (nullable = true)\n",
      " |-- Stress Level: integer (nullable = true)\n",
      " |-- BMI Category: string (nullable = true)\n",
      " |-- Heart Rate: integer (nullable = true)\n",
      " |-- Sleep Disorder: string (nullable = true)\n",
      " |-- Has Sleep Disorder: integer (nullable = true)\n",
      "\n"
     ]
    }
   ],
   "source": [
    "# Remove the Blood Pressure and Daily Steps columns\n",
    "df_cleaned = df.drop(\"Blood Pressure\", \"Daily Steps\")\n",
    "\n",
    "\n",
    "# Show the schema of the remaining columns\n",
    "df_cleaned.printSchema()"
   ]
  },
  {
   "cell_type": "code",
   "execution_count": 40,
   "id": "3893bc0c",
   "metadata": {},
   "outputs": [
    {
     "name": "stdout",
     "output_type": "stream",
     "text": [
      "Initial missing value rates:\n",
      "-RECORD 0---------------------------------------\n",
      " Person ID               | 0.0                  \n",
      " Gender                  | 0.0                  \n",
      " Age                     | 0.016                \n",
      " Occupation              | 0.0                  \n",
      " Sleep Duration          | 0.027666666666666666 \n",
      " Quality of Sleep        | 0.021                \n",
      " Physical Activity Level | 0.016                \n",
      " Stress Level            | 0.005333333333333333 \n",
      " BMI Category            | 0.014333333333333333 \n",
      " Blood Pressure          | 0.007333333333333333 \n",
      " Heart Rate              | 0.016666666666666666 \n",
      " Daily Steps             | 0.018                \n",
      " Sleep Disorder          | 0.0                  \n",
      " Has Sleep Disorder      | 0.0                  \n",
      "\n",
      "Missing value rates after imputation:\n",
      "-RECORD 0----------------------\n",
      " Gender                  | 0.0 \n",
      " Occupation              | 0.0 \n",
      " BMI Category            | 0.0 \n",
      " Blood Pressure          | 0.0 \n",
      " Sleep Disorder          | 0.0 \n",
      " Person ID               | 0.0 \n",
      " Age                     | 0.0 \n",
      " Sleep Duration          | 0.0 \n",
      " Quality of Sleep        | 0.0 \n",
      " Physical Activity Level | 0.0 \n",
      " Stress Level            | 0.0 \n",
      " Heart Rate              | 0.0 \n",
      " Daily Steps             | 0.0 \n",
      " Has Sleep Disorder      | 0.0 \n",
      "\n"
     ]
    }
   ],
   "source": [
    "# Function to calculate missing value rates\n",
    "def calculate_missing_value_rates(df):\n",
    "    total_count = df.count()\n",
    "    missing_data = df.select([(count(when(col(c).isNull(), c)) / total_count).alias(c) for c in df.columns])\n",
    "    return missing_data\n",
    "\n",
    "# Display the initial missing value rates\n",
    "print(\"Initial missing value rates:\")\n",
    "initial_missing_rates = calculate_missing_value_rates(df)\n",
    "initial_missing_rates.show(vertical=True)\n",
    "\n",
    "# Impute numerical columns\n",
    "num_cols = [field.name for field in df.schema.fields if isinstance(field.dataType, (IntegerType, FloatType, DoubleType))]\n",
    "imputer_num = Imputer(inputCols=num_cols, outputCols=[f\"{col}_imputed\" for col in num_cols]).setStrategy(\"mean\")\n",
    "df = imputer_num.fit(df).transform(df)\n",
    "\n",
    "# Impute categorical columns\n",
    "cat_cols = [field.name for field in df.schema.fields if isinstance(field.dataType, StringType)]\n",
    "for col_name in cat_cols:\n",
    "    mode = df.groupBy(col_name).count().orderBy('count', ascending=False).first()[0]\n",
    "    df = df.fillna({col_name: mode})\n",
    "\n",
    "# Remove original columns after imputation\n",
    "df = df.drop(*num_cols)\n",
    "\n",
    "# Rename imputed columns to original names\n",
    "for col_name in num_cols:\n",
    "    df = df.withColumnRenamed(f\"{col_name}_imputed\", col_name)\n",
    "\n",
    "# Display the missing value rates after imputation\n",
    "print(\"Missing value rates after imputation:\")\n",
    "post_imputation_missing_rates = calculate_missing_value_rates(df)\n",
    "post_imputation_missing_rates.show(vertical=True)\n"
   ]
  },
  {
   "cell_type": "code",
   "execution_count": 41,
   "id": "acb77066",
   "metadata": {},
   "outputs": [
    {
     "name": "stdout",
     "output_type": "stream",
     "text": [
      "Number of outliers in heart rate data before processing: 111\n",
      "Number of outliers in heart rate data after processing: 0\n"
     ]
    }
   ],
   "source": [
    "# Function to detect outliers\n",
    "def detect_outliers(df, column_name):\n",
    "    Q1 = df.approxQuantile(column_name, [0.25], 0.01)[0]\n",
    "    Q3 = df.approxQuantile(column_name, [0.75], 0.01)[0]\n",
    "    IQR = Q3 - Q1\n",
    "    lower_bound = Q1 - 1.5 * IQR\n",
    "    upper_bound = Q3 + 1.5 * IQR\n",
    "    outliers = df.filter((col(column_name) < lower_bound) | (col(column_name) > upper_bound))\n",
    "    return outliers\n",
    "\n",
    "# Function to handle outliers\n",
    "def handle_outliers(df, column_name):\n",
    "    Q1 = df.approxQuantile(column_name, [0.25], 0.01)[0]\n",
    "    Q3 = df.approxQuantile(column_name, [0.75], 0.01)[0]\n",
    "    IQR = Q3 - Q1\n",
    "    lower_bound = Q1 - 1.5 * IQR\n",
    "    upper_bound = Q3 + 1.5 * IQR\n",
    "    df = df.withColumn(column_name, expr(f\"CASE WHEN `{column_name}` < {lower_bound} THEN {lower_bound} WHEN `{column_name}` > {upper_bound} THEN {upper_bound} ELSE `{column_name}` END\"))\n",
    "    return df\n",
    "\n",
    "# Detect outliers before processing\n",
    "heart_rate_outliers_before = detect_outliers(df, 'Heart Rate')\n",
    "print(f\"Number of outliers in heart rate data before processing: {heart_rate_outliers_before.count()}\")\n",
    "\n",
    "# Handle outliers\n",
    "df = handle_outliers(df, 'Heart Rate')\n",
    "\n",
    "# Detect outliers after processing\n",
    "heart_rate_outliers_after = detect_outliers(df, 'Heart Rate')\n",
    "print(f\"Number of outliers in heart rate data after processing: {heart_rate_outliers_after.count()}\")"
   ]
  },
  {
   "cell_type": "code",
   "execution_count": 42,
   "id": "ef11da8c",
   "metadata": {},
   "outputs": [],
   "source": [
    "# Create the \"is_overweight\" column\n",
    "df = df.withColumn('is_overweight', when(col('BMI Category') == 'Overweight', 1).otherwise(0))"
   ]
  },
  {
   "cell_type": "code",
   "execution_count": 43,
   "id": "fdb62e34",
   "metadata": {},
   "outputs": [
    {
     "name": "stdout",
     "output_type": "stream",
     "text": [
      "+----------------+-----------------+-------------+--------------+-----------+\n",
      "|Quality of Sleep|Sleep Duration   |quality_score|duration_score|sleep_score|\n",
      "+----------------+-----------------+-------------+--------------+-----------+\n",
      "|8               |7.4              |40           |50            |90         |\n",
      "|9               |8.3              |45           |50            |95         |\n",
      "|6               |6.1              |30           |25            |55         |\n",
      "|6               |6.1              |30           |25            |55         |\n",
      "|6               |6.3              |30           |25            |55         |\n",
      "|7               |7.0              |35           |50            |85         |\n",
      "|7               |7.135515941035303|35           |50            |85         |\n",
      "|8               |7.135515941035303|40           |50            |90         |\n",
      "|8               |7.135515941035303|40           |50            |90         |\n",
      "|8               |7.135515941035303|40           |50            |90         |\n",
      "|9               |7.135515941035303|45           |50            |95         |\n",
      "|8               |7.135515941035303|40           |50            |90         |\n",
      "|9               |7.135515941035303|45           |50            |95         |\n",
      "|8               |7.3              |40           |50            |90         |\n",
      "|9               |8.3              |45           |50            |95         |\n",
      "|8               |7.4              |40           |50            |90         |\n",
      "|8               |7.4              |40           |50            |90         |\n",
      "|9               |8.1              |45           |50            |95         |\n",
      "|7               |6.3              |35           |25            |60         |\n",
      "|7               |6.6              |35           |25            |60         |\n",
      "+----------------+-----------------+-------------+--------------+-----------+\n",
      "only showing top 20 rows\n",
      "\n"
     ]
    }
   ],
   "source": [
    "# Calculate Quality of Sleep score: multiplied by 5 to scale from 1-10 to 0-50\n",
    "df = df.withColumn(\"quality_score\", col(\"Quality of Sleep\") * 5)\n",
    "\n",
    "# Calculate Sleep Duration score\n",
    "df = df.withColumn(\n",
    "    \"duration_score\",\n",
    "    when(col(\"Sleep Duration\") < 5, 0)\n",
    "    .when((col(\"Sleep Duration\") >= 5) & (col(\"Sleep Duration\") < 7), 25)\n",
    "    .otherwise(50)\n",
    ")\n",
    "\n",
    "# Calculate the total sleep score\n",
    "df = df.withColumn(\"sleep_score\", col(\"quality_score\") + col(\"duration_score\"))\n",
    "\n",
    "# Show the dataframe with the new columns\n",
    "df.select(\"Quality of Sleep\", \"Sleep Duration\", \"quality_score\", \"duration_score\", \"sleep_score\").show(20, truncate=False)\n"
   ]
  },
  {
   "cell_type": "code",
   "execution_count": 3,
   "id": "b4e59254",
   "metadata": {
    "scrolled": false
   },
   "outputs": [
    {
     "name": "stdout",
     "output_type": "stream",
     "text": [
      "root\n",
      " |-- Person ID: integer (nullable = true)\n",
      " |-- Blood Pressure_bp: string (nullable = true)\n",
      " |-- Systolic: integer (nullable = true)\n",
      " |-- Diastolic: integer (nullable = true)\n",
      " |-- Gender: string (nullable = true)\n",
      " |-- Age: integer (nullable = true)\n",
      " |-- Occupation: string (nullable = true)\n",
      " |-- Sleep Duration: double (nullable = true)\n",
      " |-- Quality of Sleep: integer (nullable = true)\n",
      " |-- Physical Activity Level: integer (nullable = true)\n",
      " |-- Stress Level: integer (nullable = true)\n",
      " |-- BMI Category: string (nullable = true)\n",
      " |-- Blood Pressure: string (nullable = true)\n",
      " |-- Heart Rate: integer (nullable = true)\n",
      " |-- Daily Steps: integer (nullable = true)\n",
      " |-- Sleep Disorder: string (nullable = true)\n",
      " |-- Has Sleep Disorder: integer (nullable = true)\n",
      "\n"
     ]
    }
   ],
   "source": [
    "# Load the datasets\n",
    "blood_pressure_file_path = \"Datasets/BloodPressure.csv\"  # Replace with your actual file path\n",
    "sleep_data_file_path = \"Datasets/Sleep_health_and_lifestyle_dataset.csv\"  # Replace with your actual file path\n",
    "\n",
    "blood_pressure_data = spark.read.csv(blood_pressure_file_path, header=True, inferSchema=True)\n",
    "sleep_data = spark.read.csv(sleep_data_file_path, header=True, inferSchema=True)\n",
    "\n",
    "# Rename duplicate columns in blood_pressure_data\n",
    "for col_name in blood_pressure_data.columns:\n",
    "    if col_name in sleep_data.columns and col_name != 'Person ID':\n",
    "        blood_pressure_data = blood_pressure_data.withColumnRenamed(col_name, f\"{col_name}_bp\")\n",
    "\n",
    "# Merge the datasets using 'Person ID' as the key\n",
    "merged_data = blood_pressure_data.join(sleep_data, on='Person ID', how='inner')\n",
    "\n",
    "# Remove duplicate records if any\n",
    "merged_data = merged_data.dropDuplicates(subset=['Person ID'])\n",
    "\n",
    "\n",
    "\n",
    "# Verify the merge\n",
    "merged_data.printSchema()"
   ]
  },
  {
   "cell_type": "code",
   "execution_count": 8,
   "id": "8dd9c2a5",
   "metadata": {
    "scrolled": true
   },
   "outputs": [
    {
     "name": "stderr",
     "output_type": "stream",
     "text": [
      "                                                                                \r"
     ]
    },
    {
     "name": "stdout",
     "output_type": "stream",
     "text": [
      "+-----------------------+-----------------------+---------------------+\n",
      "|col1                   |col2                   |correlation          |\n",
      "+-----------------------+-----------------------+---------------------+\n",
      "|Has Sleep Disorder     |Diastolic              |0.4413632734605211   |\n",
      "|Diastolic              |Has Sleep Disorder     |0.4413632734605211   |\n",
      "|Has Sleep Disorder     |Systolic               |0.3874203179772385   |\n",
      "|Systolic               |Has Sleep Disorder     |0.38742031797723847  |\n",
      "|Has Sleep Disorder     |Age                    |0.3690176335458678   |\n",
      "|Age                    |Has Sleep Disorder     |0.36901763354586775  |\n",
      "|Stress Level           |Has Sleep Disorder     |0.19389881385146074  |\n",
      "|Has Sleep Disorder     |Stress Level           |0.19389881385146066  |\n",
      "|Has Sleep Disorder     |Heart Rate             |0.11704122913724023  |\n",
      "|Heart Rate             |Has Sleep Disorder     |0.11704122913724019  |\n",
      "|Physical Activity Level|Has Sleep Disorder     |0.03392067105739961  |\n",
      "|Has Sleep Disorder     |Physical Activity Level|0.0339206710573996   |\n",
      "|Person ID              |Has Sleep Disorder     |-0.016167713695296675|\n",
      "|Has Sleep Disorder     |Person ID              |-0.016167713695296692|\n",
      "|Has Sleep Disorder     |Daily Steps            |-0.04400380806028547 |\n",
      "|Daily Steps            |Has Sleep Disorder     |-0.04400380806028551 |\n",
      "|Has Sleep Disorder     |Sleep Duration         |-0.19584540385860386 |\n",
      "|Sleep Duration         |Has Sleep Disorder     |-0.1958454038586039  |\n",
      "|Quality of Sleep       |Has Sleep Disorder     |-0.23523608071551105 |\n",
      "|Has Sleep Disorder     |Quality of Sleep       |-0.23523608071551105 |\n",
      "+-----------------------+-----------------------+---------------------+\n",
      "\n"
     ]
    }
   ],
   "source": [
    "# 4-DT\n",
    "# 4.1\n",
    "# Select numerical columns for correlation calculation\n",
    "numeric_cols = [field.name for field in merged_data.schema.fields if isinstance(field.dataType, (DoubleType, IntegerType))]\n",
    "\n",
    "# Calculate the correlation matrix\n",
    "correlations = {}\n",
    "for col1 in numeric_cols:\n",
    "    for col2 in numeric_cols:\n",
    "        if col1 != col2:\n",
    "            corr_value = merged_data.stat.corr(col1, col2)\n",
    "            correlations[(col1, col2)] = corr_value\n",
    "\n",
    "# Convert the correlations dictionary to a DataFrame\n",
    "correlations_df = spark.createDataFrame([(k[0], k[1], v) for k, v in correlations.items()], [\"col1\", \"col2\", \"correlation\"])\n",
    "\n",
    "# Extract the correlations with the target variable 'Has Sleep Disorder'\n",
    "target_var = 'Has Sleep Disorder'\n",
    "correlations_with_target = correlations_df.filter((correlations_df.col1 == target_var) | (correlations_df.col2 == target_var))\n",
    "\n",
    "# Sort the correlations with the target variable in descending order\n",
    "correlations_with_target = correlations_with_target.orderBy(\"correlation\", ascending=False)\n",
    "\n",
    "# Display the correlations with the target variable\n",
    "correlations_with_target.show(truncate=False)"
   ]
  },
  {
   "cell_type": "code",
   "execution_count": 5,
   "id": "c980a6a5",
   "metadata": {},
   "outputs": [
    {
     "data": {
      "image/png": "[encoded data removed]",
      "text/plain": [
       "<Figure size 720x360 with 1 Axes>"
      ]
     },
     "metadata": {
      "needs_background": "light"
     },
     "output_type": "display_data"
    }
   ],
   "source": [
    "# Load the dataset\n",
    "file_path = \"Datasets/modified_sleep_health_and_lifestyle.csv\"\n",
    "df_merge = spark.read.csv(file_path, header=True, inferSchema=True)\n",
    "\n",
    "# Group by 'Occupation' and count the occurrences\n",
    "occupation_counts = df_merge.groupBy(\"Occupation\").agg(count(\"Occupation\").alias(\"Count\")).orderBy(col(\"Count\").desc())\n",
    "\n",
    "# Convert to Pandas for visualization\n",
    "occupation_counts_pd = occupation_counts.toPandas()\n",
    "\n",
    "# Plot the data\n",
    "plt.figure(figsize=(10, 5))\n",
    "sns.barplot(x=occupation_counts_pd['Occupation'], y=occupation_counts_pd['Count'])\n",
    "plt.title('Frequency of Sleep Problems by Occupation')\n",
    "plt.xticks(rotation=45)\n",
    "plt.show()"
   ]
  },
  {
   "cell_type": "code",
   "execution_count": 7,
   "id": "dc1857be",
   "metadata": {},
   "outputs": [
    {
     "data": {
      "image/png": "[encoded data removed]",
      "text/plain": [
       "<Figure size 720x432 with 1 Axes>"
      ]
     },
     "metadata": {},
     "output_type": "display_data"
    }
   ],
   "source": [
    "# Select the required columns and convert to Pandas DataFrame\n",
    "overweight_sleep_df = df_merge.select(\"is_overweight\", \"Sleep Duration\").toPandas()\n",
    "\n",
    "\n",
    "# Set plot style\n",
    "sns.set(style=\"whitegrid\")\n",
    "\n",
    "# Generate the plot\n",
    "plt.figure(figsize=(10, 6))\n",
    "sns.boxplot(x=\"is_overweight\", y=\"Sleep Duration\", data=overweight_sleep_df)\n",
    "plt.title('Relationship between Overweight Status and Sleep Duration')\n",
    "plt.xlabel('Overweight Status (0: Not Overweight, 1: Overweight)')\n",
    "plt.ylabel('Sleep Duration (hours)')\n",
    "plt.xticks(rotation=45)\n",
    "plt.show()"
   ]
  },
  {
   "cell_type": "code",
   "execution_count": 10,
   "id": "449d713e",
   "metadata": {},
   "outputs": [
    {
     "data": {
      "image/png": "[encoded data removed]",
      "text/plain": [
       "<Figure size 720x432 with 1 Axes>"
      ]
     },
     "metadata": {},
     "output_type": "display_data"
    }
   ],
   "source": [
    "# Select the required columns and convert to Pandas DataFrame\n",
    "activity_sleep_df = df_merge.select(\"Physical Activity Level\", \"Quality of Sleep\").toPandas()\n",
    "\n",
    "\n",
    "# Set plot style\n",
    "sns.set(style=\"whitegrid\")\n",
    "\n",
    "# Generate the plot\n",
    "plt.figure(figsize=(10, 6))\n",
    "sns.scatterplot(x=\"Physical Activity Level\", y=\"Quality of Sleep\", data=activity_sleep_df)\n",
    "plt.title('Relationship between Physical Activity Level and Sleep Quality')\n",
    "plt.xlabel('Physical Activity Level')\n",
    "plt.ylabel('Quality of Sleep')\n",
    "plt.show()"
   ]
  },
  {
   "cell_type": "code",
   "execution_count": 5,
   "id": "9debc8c3",
   "metadata": {},
   "outputs": [
    {
     "name": "stdout",
     "output_type": "stream",
     "text": [
      "root\n",
      " |-- Gender: string (nullable = true)\n",
      " |-- Age: integer (nullable = true)\n",
      " |-- Occupation: string (nullable = true)\n",
      " |-- Sleep Duration: double (nullable = true)\n",
      " |-- Quality of Sleep: integer (nullable = true)\n",
      " |-- Physical Activity Level: integer (nullable = true)\n",
      " |-- Stress Level: integer (nullable = true)\n",
      " |-- Daily Steps: integer (nullable = true)\n",
      " |-- Has Sleep Disorder: integer (nullable = true)\n",
      " |-- is_overweight: integer (nullable = true)\n",
      " |-- Sleep_Score: integer (nullable = true)\n",
      "\n"
     ]
    },
    {
     "name": "stderr",
     "output_type": "stream",
     "text": [
      "                                                                                \r"
     ]
    },
    {
     "name": "stdout",
     "output_type": "stream",
     "text": [
      "Test Accuracy = 0.9363295880149812\n"
     ]
    },
    {
     "ename": "TypeError",
     "evalue": "Unable to infer the type of the field Importance.",
     "output_type": "error",
     "traceback": [
      "\u001b[0;31m---------------------------------------------------------------------------\u001b[0m",
      "\u001b[0;31mTypeError\u001b[0m                                 Traceback (most recent call last)",
      "File \u001b[0;32m~/spark-3.2.1-bin-hadoop2.7/python/pyspark/sql/types.py:1041\u001b[0m, in \u001b[0;36m_infer_type\u001b[0;34m(obj)\u001b[0m\n\u001b[1;32m   1040\u001b[0m \u001b[38;5;28;01mtry\u001b[39;00m:\n\u001b[0;32m-> 1041\u001b[0m     \u001b[38;5;28;01mreturn\u001b[39;00m \u001b[43m_infer_schema\u001b[49m\u001b[43m(\u001b[49m\u001b[43mobj\u001b[49m\u001b[43m)\u001b[49m\n\u001b[1;32m   1042\u001b[0m \u001b[38;5;28;01mexcept\u001b[39;00m \u001b[38;5;167;01mTypeError\u001b[39;00m:\n",
      "File \u001b[0;32m~/spark-3.2.1-bin-hadoop2.7/python/pyspark/sql/types.py:1067\u001b[0m, in \u001b[0;36m_infer_schema\u001b[0;34m(row, names)\u001b[0m\n\u001b[1;32m   1066\u001b[0m \u001b[38;5;28;01melse\u001b[39;00m:\n\u001b[0;32m-> 1067\u001b[0m     \u001b[38;5;28;01mraise\u001b[39;00m \u001b[38;5;167;01mTypeError\u001b[39;00m(\u001b[38;5;124m\"\u001b[39m\u001b[38;5;124mCan not infer schema for type: \u001b[39m\u001b[38;5;132;01m%s\u001b[39;00m\u001b[38;5;124m\"\u001b[39m \u001b[38;5;241m%\u001b[39m \u001b[38;5;28mtype\u001b[39m(row))\n\u001b[1;32m   1069\u001b[0m fields \u001b[38;5;241m=\u001b[39m []\n",
      "\u001b[0;31mTypeError\u001b[0m: Can not infer schema for type: <class 'numpy.float64'>",
      "\nDuring handling of the above exception, another exception occurred:\n",
      "\u001b[0;31mTypeError\u001b[0m                                 Traceback (most recent call last)",
      "File \u001b[0;32m~/spark-3.2.1-bin-hadoop2.7/python/pyspark/sql/types.py:1072\u001b[0m, in \u001b[0;36m_infer_schema\u001b[0;34m(row, names)\u001b[0m\n\u001b[1;32m   1071\u001b[0m \u001b[38;5;28;01mtry\u001b[39;00m:\n\u001b[0;32m-> 1072\u001b[0m     fields\u001b[38;5;241m.\u001b[39mappend(StructField(k, \u001b[43m_infer_type\u001b[49m\u001b[43m(\u001b[49m\u001b[43mv\u001b[49m\u001b[43m)\u001b[49m, \u001b[38;5;28;01mTrue\u001b[39;00m))\n\u001b[1;32m   1073\u001b[0m \u001b[38;5;28;01mexcept\u001b[39;00m \u001b[38;5;167;01mTypeError\u001b[39;00m \u001b[38;5;28;01mas\u001b[39;00m e:\n",
      "File \u001b[0;32m~/spark-3.2.1-bin-hadoop2.7/python/pyspark/sql/types.py:1043\u001b[0m, in \u001b[0;36m_infer_type\u001b[0;34m(obj)\u001b[0m\n\u001b[1;32m   1042\u001b[0m \u001b[38;5;28;01mexcept\u001b[39;00m \u001b[38;5;167;01mTypeError\u001b[39;00m:\n\u001b[0;32m-> 1043\u001b[0m     \u001b[38;5;28;01mraise\u001b[39;00m \u001b[38;5;167;01mTypeError\u001b[39;00m(\u001b[38;5;124m\"\u001b[39m\u001b[38;5;124mnot supported type: \u001b[39m\u001b[38;5;132;01m%s\u001b[39;00m\u001b[38;5;124m\"\u001b[39m \u001b[38;5;241m%\u001b[39m \u001b[38;5;28mtype\u001b[39m(obj))\n",
      "\u001b[0;31mTypeError\u001b[0m: not supported type: <class 'numpy.float64'>",
      "\nThe above exception was the direct cause of the following exception:\n",
      "\u001b[0;31mTypeError\u001b[0m                                 Traceback (most recent call last)",
      "Input \u001b[0;32mIn [5]\u001b[0m, in \u001b[0;36m<cell line: 40>\u001b[0;34m()\u001b[0m\n\u001b[1;32m     38\u001b[0m features \u001b[38;5;241m=\u001b[39m assembler\u001b[38;5;241m.\u001b[39mgetInputCols()\n\u001b[1;32m     39\u001b[0m importance_list \u001b[38;5;241m=\u001b[39m [(features[i], importances[i]) \u001b[38;5;28;01mfor\u001b[39;00m i \u001b[38;5;129;01min\u001b[39;00m \u001b[38;5;28mrange\u001b[39m(\u001b[38;5;28mlen\u001b[39m(importances))]\n\u001b[0;32m---> 40\u001b[0m importance_df \u001b[38;5;241m=\u001b[39m \u001b[43mspark\u001b[49m\u001b[38;5;241;43m.\u001b[39;49m\u001b[43mcreateDataFrame\u001b[49m\u001b[43m(\u001b[49m\u001b[43mimportance_list\u001b[49m\u001b[43m,\u001b[49m\u001b[43m \u001b[49m\u001b[43m[\u001b[49m\u001b[38;5;124;43m\"\u001b[39;49m\u001b[38;5;124;43mFeature\u001b[39;49m\u001b[38;5;124;43m\"\u001b[39;49m\u001b[43m,\u001b[49m\u001b[43m \u001b[49m\u001b[38;5;124;43m\"\u001b[39;49m\u001b[38;5;124;43mImportance\u001b[39;49m\u001b[38;5;124;43m\"\u001b[39;49m\u001b[43m]\u001b[49m\u001b[43m)\u001b[49m\u001b[38;5;241m.\u001b[39morderBy(col(\u001b[38;5;124m\"\u001b[39m\u001b[38;5;124mImportance\u001b[39m\u001b[38;5;124m\"\u001b[39m)\u001b[38;5;241m.\u001b[39mdesc())\n\u001b[1;32m     42\u001b[0m \u001b[38;5;28mprint\u001b[39m(\u001b[38;5;124m\"\u001b[39m\u001b[38;5;124mFeature Importances:\u001b[39m\u001b[38;5;124m\"\u001b[39m)\n\u001b[1;32m     43\u001b[0m importance_df\u001b[38;5;241m.\u001b[39mshow(truncate\u001b[38;5;241m=\u001b[39m\u001b[38;5;28;01mFalse\u001b[39;00m)\n",
      "File \u001b[0;32m~/spark-3.2.1-bin-hadoop2.7/python/pyspark/sql/session.py:675\u001b[0m, in \u001b[0;36mSparkSession.createDataFrame\u001b[0;34m(self, data, schema, samplingRatio, verifySchema)\u001b[0m\n\u001b[1;32m    671\u001b[0m \u001b[38;5;28;01mif\u001b[39;00m has_pandas \u001b[38;5;129;01mand\u001b[39;00m \u001b[38;5;28misinstance\u001b[39m(data, pandas\u001b[38;5;241m.\u001b[39mDataFrame):\n\u001b[1;32m    672\u001b[0m     \u001b[38;5;66;03m# Create a DataFrame from pandas DataFrame.\u001b[39;00m\n\u001b[1;32m    673\u001b[0m     \u001b[38;5;28;01mreturn\u001b[39;00m \u001b[38;5;28msuper\u001b[39m(SparkSession, \u001b[38;5;28mself\u001b[39m)\u001b[38;5;241m.\u001b[39mcreateDataFrame(\n\u001b[1;32m    674\u001b[0m         data, schema, samplingRatio, verifySchema)\n\u001b[0;32m--> 675\u001b[0m \u001b[38;5;28;01mreturn\u001b[39;00m \u001b[38;5;28;43mself\u001b[39;49m\u001b[38;5;241;43m.\u001b[39;49m\u001b[43m_create_dataframe\u001b[49m\u001b[43m(\u001b[49m\u001b[43mdata\u001b[49m\u001b[43m,\u001b[49m\u001b[43m \u001b[49m\u001b[43mschema\u001b[49m\u001b[43m,\u001b[49m\u001b[43m \u001b[49m\u001b[43msamplingRatio\u001b[49m\u001b[43m,\u001b[49m\u001b[43m \u001b[49m\u001b[43mverifySchema\u001b[49m\u001b[43m)\u001b[49m\n",
      "File \u001b[0;32m~/spark-3.2.1-bin-hadoop2.7/python/pyspark/sql/session.py:700\u001b[0m, in \u001b[0;36mSparkSession._create_dataframe\u001b[0;34m(self, data, schema, samplingRatio, verifySchema)\u001b[0m\n\u001b[1;32m    698\u001b[0m     rdd, schema \u001b[38;5;241m=\u001b[39m \u001b[38;5;28mself\u001b[39m\u001b[38;5;241m.\u001b[39m_createFromRDD(data\u001b[38;5;241m.\u001b[39mmap(prepare), schema, samplingRatio)\n\u001b[1;32m    699\u001b[0m \u001b[38;5;28;01melse\u001b[39;00m:\n\u001b[0;32m--> 700\u001b[0m     rdd, schema \u001b[38;5;241m=\u001b[39m \u001b[38;5;28;43mself\u001b[39;49m\u001b[38;5;241;43m.\u001b[39;49m\u001b[43m_createFromLocal\u001b[49m\u001b[43m(\u001b[49m\u001b[38;5;28;43mmap\u001b[39;49m\u001b[43m(\u001b[49m\u001b[43mprepare\u001b[49m\u001b[43m,\u001b[49m\u001b[43m \u001b[49m\u001b[43mdata\u001b[49m\u001b[43m)\u001b[49m\u001b[43m,\u001b[49m\u001b[43m \u001b[49m\u001b[43mschema\u001b[49m\u001b[43m)\u001b[49m\n\u001b[1;32m    701\u001b[0m jrdd \u001b[38;5;241m=\u001b[39m \u001b[38;5;28mself\u001b[39m\u001b[38;5;241m.\u001b[39m_jvm\u001b[38;5;241m.\u001b[39mSerDeUtil\u001b[38;5;241m.\u001b[39mtoJavaArray(rdd\u001b[38;5;241m.\u001b[39m_to_java_object_rdd())\n\u001b[1;32m    702\u001b[0m jdf \u001b[38;5;241m=\u001b[39m \u001b[38;5;28mself\u001b[39m\u001b[38;5;241m.\u001b[39m_jsparkSession\u001b[38;5;241m.\u001b[39mapplySchemaToPythonRDD(jrdd\u001b[38;5;241m.\u001b[39mrdd(), schema\u001b[38;5;241m.\u001b[39mjson())\n",
      "File \u001b[0;32m~/spark-3.2.1-bin-hadoop2.7/python/pyspark/sql/session.py:512\u001b[0m, in \u001b[0;36mSparkSession._createFromLocal\u001b[0;34m(self, data, schema)\u001b[0m\n\u001b[1;32m    509\u001b[0m     data \u001b[38;5;241m=\u001b[39m \u001b[38;5;28mlist\u001b[39m(data)\n\u001b[1;32m    511\u001b[0m \u001b[38;5;28;01mif\u001b[39;00m schema \u001b[38;5;129;01mis\u001b[39;00m \u001b[38;5;28;01mNone\u001b[39;00m \u001b[38;5;129;01mor\u001b[39;00m \u001b[38;5;28misinstance\u001b[39m(schema, (\u001b[38;5;28mlist\u001b[39m, \u001b[38;5;28mtuple\u001b[39m)):\n\u001b[0;32m--> 512\u001b[0m     struct \u001b[38;5;241m=\u001b[39m \u001b[38;5;28;43mself\u001b[39;49m\u001b[38;5;241;43m.\u001b[39;49m\u001b[43m_inferSchemaFromList\u001b[49m\u001b[43m(\u001b[49m\u001b[43mdata\u001b[49m\u001b[43m,\u001b[49m\u001b[43m \u001b[49m\u001b[43mnames\u001b[49m\u001b[38;5;241;43m=\u001b[39;49m\u001b[43mschema\u001b[49m\u001b[43m)\u001b[49m\n\u001b[1;32m    513\u001b[0m     converter \u001b[38;5;241m=\u001b[39m _create_converter(struct)\n\u001b[1;32m    514\u001b[0m     data \u001b[38;5;241m=\u001b[39m \u001b[38;5;28mmap\u001b[39m(converter, data)\n",
      "File \u001b[0;32m~/spark-3.2.1-bin-hadoop2.7/python/pyspark/sql/session.py:439\u001b[0m, in \u001b[0;36mSparkSession._inferSchemaFromList\u001b[0;34m(self, data, names)\u001b[0m\n\u001b[1;32m    437\u001b[0m \u001b[38;5;28;01mif\u001b[39;00m \u001b[38;5;129;01mnot\u001b[39;00m data:\n\u001b[1;32m    438\u001b[0m     \u001b[38;5;28;01mraise\u001b[39;00m \u001b[38;5;167;01mValueError\u001b[39;00m(\u001b[38;5;124m\"\u001b[39m\u001b[38;5;124mcan not infer schema from empty dataset\u001b[39m\u001b[38;5;124m\"\u001b[39m)\n\u001b[0;32m--> 439\u001b[0m schema \u001b[38;5;241m=\u001b[39m \u001b[43mreduce\u001b[49m\u001b[43m(\u001b[49m\u001b[43m_merge_type\u001b[49m\u001b[43m,\u001b[49m\u001b[43m \u001b[49m\u001b[43m(\u001b[49m\u001b[43m_infer_schema\u001b[49m\u001b[43m(\u001b[49m\u001b[43mrow\u001b[49m\u001b[43m,\u001b[49m\u001b[43m \u001b[49m\u001b[43mnames\u001b[49m\u001b[43m)\u001b[49m\u001b[43m \u001b[49m\u001b[38;5;28;43;01mfor\u001b[39;49;00m\u001b[43m \u001b[49m\u001b[43mrow\u001b[49m\u001b[43m \u001b[49m\u001b[38;5;129;43;01min\u001b[39;49;00m\u001b[43m \u001b[49m\u001b[43mdata\u001b[49m\u001b[43m)\u001b[49m\u001b[43m)\u001b[49m\n\u001b[1;32m    440\u001b[0m \u001b[38;5;28;01mif\u001b[39;00m _has_nulltype(schema):\n\u001b[1;32m    441\u001b[0m     \u001b[38;5;28;01mraise\u001b[39;00m \u001b[38;5;167;01mValueError\u001b[39;00m(\u001b[38;5;124m\"\u001b[39m\u001b[38;5;124mSome of types cannot be determined after inferring\u001b[39m\u001b[38;5;124m\"\u001b[39m)\n",
      "File \u001b[0;32m~/spark-3.2.1-bin-hadoop2.7/python/pyspark/sql/session.py:439\u001b[0m, in \u001b[0;36m<genexpr>\u001b[0;34m(.0)\u001b[0m\n\u001b[1;32m    437\u001b[0m \u001b[38;5;28;01mif\u001b[39;00m \u001b[38;5;129;01mnot\u001b[39;00m data:\n\u001b[1;32m    438\u001b[0m     \u001b[38;5;28;01mraise\u001b[39;00m \u001b[38;5;167;01mValueError\u001b[39;00m(\u001b[38;5;124m\"\u001b[39m\u001b[38;5;124mcan not infer schema from empty dataset\u001b[39m\u001b[38;5;124m\"\u001b[39m)\n\u001b[0;32m--> 439\u001b[0m schema \u001b[38;5;241m=\u001b[39m reduce(_merge_type, (\u001b[43m_infer_schema\u001b[49m\u001b[43m(\u001b[49m\u001b[43mrow\u001b[49m\u001b[43m,\u001b[49m\u001b[43m \u001b[49m\u001b[43mnames\u001b[49m\u001b[43m)\u001b[49m \u001b[38;5;28;01mfor\u001b[39;00m row \u001b[38;5;129;01min\u001b[39;00m data))\n\u001b[1;32m    440\u001b[0m \u001b[38;5;28;01mif\u001b[39;00m _has_nulltype(schema):\n\u001b[1;32m    441\u001b[0m     \u001b[38;5;28;01mraise\u001b[39;00m \u001b[38;5;167;01mValueError\u001b[39;00m(\u001b[38;5;124m\"\u001b[39m\u001b[38;5;124mSome of types cannot be determined after inferring\u001b[39m\u001b[38;5;124m\"\u001b[39m)\n",
      "File \u001b[0;32m~/spark-3.2.1-bin-hadoop2.7/python/pyspark/sql/types.py:1074\u001b[0m, in \u001b[0;36m_infer_schema\u001b[0;34m(row, names)\u001b[0m\n\u001b[1;32m   1072\u001b[0m         fields\u001b[38;5;241m.\u001b[39mappend(StructField(k, _infer_type(v), \u001b[38;5;28;01mTrue\u001b[39;00m))\n\u001b[1;32m   1073\u001b[0m     \u001b[38;5;28;01mexcept\u001b[39;00m \u001b[38;5;167;01mTypeError\u001b[39;00m \u001b[38;5;28;01mas\u001b[39;00m e:\n\u001b[0;32m-> 1074\u001b[0m         \u001b[38;5;28;01mraise\u001b[39;00m \u001b[38;5;167;01mTypeError\u001b[39;00m(\u001b[38;5;124m\"\u001b[39m\u001b[38;5;124mUnable to infer the type of the field \u001b[39m\u001b[38;5;132;01m{}\u001b[39;00m\u001b[38;5;124m.\u001b[39m\u001b[38;5;124m\"\u001b[39m\u001b[38;5;241m.\u001b[39mformat(k)) \u001b[38;5;28;01mfrom\u001b[39;00m \u001b[38;5;21;01me\u001b[39;00m\n\u001b[1;32m   1075\u001b[0m \u001b[38;5;28;01mreturn\u001b[39;00m StructType(fields)\n",
      "\u001b[0;31mTypeError\u001b[0m: Unable to infer the type of the field Importance."
     ]
    }
   ],
   "source": [
    "# Show dataset schema\n",
    "df_merge.printSchema()\n",
    "\n",
    "# Drop columns with unsupported data types\n",
    "df_merge = df_merge.drop(\"Gender\", \"Occupation\")\n",
    "\n",
    "# Prepare the data\n",
    "feature_columns = df_merge.columns\n",
    "feature_columns.remove('Has Sleep Disorder')\n",
    "assembler = VectorAssembler(inputCols=feature_columns, outputCol=\"features\")\n",
    "\n",
    "# Index the label column\n",
    "indexer = StringIndexer(inputCol=\"Has Sleep Disorder\", outputCol=\"label\")\n",
    "\n",
    "# Split the data into training and test sets\n",
    "(trainingData, testData) = df_merge.randomSplit([0.7, 0.3])\n",
    "\n",
    "# Create the Random Forest classifier\n",
    "rf = RandomForestClassifier(labelCol=\"label\", featuresCol=\"features\", numTrees=100)\n",
    "\n",
    "# Create the pipeline\n",
    "pipeline = Pipeline(stages=[assembler, indexer, rf])\n",
    "\n",
    "# Train the model\n",
    "model = pipeline.fit(trainingData)\n",
    "\n",
    "# Make predictions\n",
    "predictions = model.transform(testData)\n",
    "\n",
    "# Evaluate the model\n",
    "evaluator = MulticlassClassificationEvaluator(labelCol=\"label\", predictionCol=\"prediction\", metricName=\"accuracy\")\n",
    "accuracy = evaluator.evaluate(predictions)\n",
    "print(f\"Test Accuracy = {accuracy}\")\n",
    "\n",
    "# Analyze feature importance\n",
    "rf_model = model.stages[-1]\n",
    "importances = rf_model.featureImportances\n",
    "features = assembler.getInputCols()\n",
    "importance_list = [(features[i], importances[i]) for i in range(len(importances))]\n",
    "importance_df = spark.createDataFrame(importance_list, [\"Feature\", \"Importance\"]).orderBy(col(\"Importance\").desc())\n",
    "\n",
    "print(\"Feature Importances:\")\n",
    "importance_df.show(truncate=False)\n",
    "\n",
    "# Show the first few predictions\n",
    "predictions.select(\"prediction\", \"label\", \"features\").show(5)\n"
   ]
  },
  {
   "cell_type": "code",
   "execution_count": null,
   "id": "8c9aa155",
   "metadata": {},
   "outputs": [],
   "source": []
  }
 ],
 "metadata": {
  "kernelspec": {
   "display_name": "Python 3 (ipykernel)",
   "language": "python",
   "name": "python3"
  },
  "language_info": {
   "codemirror_mode": {
    "name": "ipython",
    "version": 3
   },
   "file_extension": ".py",
   "mimetype": "text/x-python",
   "name": "python",
   "nbconvert_exporter": "python",
   "pygments_lexer": "ipython3",
   "version": "3.10.4"
  }
 },
 "nbformat": 4,
 "nbformat_minor": 5
}
